{
  "nbformat": 4,
  "nbformat_minor": 0,
  "metadata": {
    "colab": {
      "provenance": []
    },
    "kernelspec": {
      "name": "python3",
      "display_name": "Python 3"
    },
    "language_info": {
      "name": "python"
    }
  },
  "cells": [
    {
      "cell_type": "markdown",
      "source": [
        "## Data Cleaning Cust_info"
      ],
      "metadata": {
        "id": "56thv3XnvuLz"
      }
    },
    {
      "cell_type": "code",
      "execution_count": null,
      "metadata": {
        "id": "nSOlh9o_b_c1"
      },
      "outputs": [],
      "source": [
        "import pandas as pd\n",
        "import numpy as np"
      ]
    },
    {
      "cell_type": "code",
      "source": [
        "url=\"https://raw.githubusercontent.com/mdnjabir/rfmanalysis/refs/heads/main/cust_info.csv\"\n",
        "df = pd.read_csv(url)"
      ],
      "metadata": {
        "id": "4TjDBmlscTkA"
      },
      "execution_count": null,
      "outputs": []
    },
    {
      "cell_type": "code",
      "source": [
        "df.info()"
      ],
      "metadata": {
        "colab": {
          "base_uri": "https://localhost:8080/"
        },
        "id": "GS3VjRL-cpRv",
        "outputId": "3d4365a2-810b-447d-911c-0988a97b68ba"
      },
      "execution_count": null,
      "outputs": [
        {
          "output_type": "stream",
          "name": "stdout",
          "text": [
            "<class 'pandas.core.frame.DataFrame'>\n",
            "RangeIndex: 10000 entries, 0 to 9999\n",
            "Data columns (total 5 columns):\n",
            " #   Column      Non-Null Count  Dtype \n",
            "---  ------      --------------  ----- \n",
            " 0   CustomerID  10000 non-null  int64 \n",
            " 1   Gender      9812 non-null   object\n",
            " 2   Age         10000 non-null  int64 \n",
            " 3   Country     10000 non-null  object\n",
            " 4   City        10000 non-null  object\n",
            "dtypes: int64(2), object(3)\n",
            "memory usage: 390.8+ KB\n"
          ]
        }
      ]
    },
    {
      "cell_type": "code",
      "source": [
        "print(df.describe(include='all'))"
      ],
      "metadata": {
        "colab": {
          "base_uri": "https://localhost:8080/"
        },
        "id": "oHYMdZiec0qm",
        "outputId": "10262c83-79a6-409e-c3e1-c1b90e22348e"
      },
      "execution_count": null,
      "outputs": [
        {
          "output_type": "stream",
          "name": "stdout",
          "text": [
            "         CustomerID Gender           Age  Country    City\n",
            "count   10000.00000   9812  10000.000000    10000   10000\n",
            "unique          NaN      3           NaN        8     836\n",
            "top             NaN   Male           NaN  Germany  Berlin\n",
            "freq            NaN   4508           NaN     1463    1226\n",
            "mean    15100.50000    NaN     49.710400      NaN     NaN\n",
            "std      2886.89568    NaN     25.129056      NaN     NaN\n",
            "min     10101.00000    NaN    -10.000000      NaN     NaN\n",
            "25%     12600.75000    NaN     33.000000      NaN     NaN\n",
            "50%     15100.50000    NaN     49.000000      NaN     NaN\n",
            "75%     17600.25000    NaN     65.000000      NaN     NaN\n",
            "max     20100.00000    NaN    150.000000      NaN     NaN\n"
          ]
        }
      ]
    },
    {
      "cell_type": "markdown",
      "source": [
        "There are some problms with the data;\n",
        "\n",
        "\n",
        "*   Negative values in Age\n",
        "*   Maximum Age '150' seems unrealistics\n",
        "*   Missing Values in Gender\n",
        "\n",
        "\n",
        "\n",
        "\n"
      ],
      "metadata": {
        "id": "WYPKmA6adUfc"
      }
    },
    {
      "cell_type": "code",
      "source": [
        "df['Gender'].unique()"
      ],
      "metadata": {
        "colab": {
          "base_uri": "https://localhost:8080/"
        },
        "id": "RwUBUQvKdH5r",
        "outputId": "3e40bc32-14b5-492b-b2b5-bb61453be54c"
      },
      "execution_count": null,
      "outputs": [
        {
          "output_type": "execute_result",
          "data": {
            "text/plain": [
              "array(['Male', 'Female', nan, 'Other'], dtype=object)"
            ]
          },
          "metadata": {},
          "execution_count": 13
        }
      ]
    },
    {
      "cell_type": "code",
      "source": [
        "df.dropna(subset = ['Gender'], inplace = True)\n",
        "df.info()"
      ],
      "metadata": {
        "colab": {
          "base_uri": "https://localhost:8080/"
        },
        "id": "QFfoon7CeGy_",
        "outputId": "ece6a7f2-3cb4-4bfe-de31-ee363b8efe73"
      },
      "execution_count": null,
      "outputs": [
        {
          "output_type": "stream",
          "name": "stdout",
          "text": [
            "<class 'pandas.core.frame.DataFrame'>\n",
            "Index: 9812 entries, 0 to 9999\n",
            "Data columns (total 5 columns):\n",
            " #   Column      Non-Null Count  Dtype \n",
            "---  ------      --------------  ----- \n",
            " 0   CustomerID  9812 non-null   int64 \n",
            " 1   Gender      9812 non-null   object\n",
            " 2   Age         9812 non-null   int64 \n",
            " 3   Country     9812 non-null   object\n",
            " 4   City        9812 non-null   object\n",
            "dtypes: int64(2), object(3)\n",
            "memory usage: 459.9+ KB\n"
          ]
        }
      ]
    },
    {
      "cell_type": "code",
      "source": [
        "import matplotlib.pyplot as plt\n",
        "import seaborn as sns\n",
        "\n",
        "sns.histplot(df['Age'], bins=30, kde=True)\n",
        "plt.title(\"Age Distribution\")\n",
        "plt.show()"
      ],
      "metadata": {
        "colab": {
          "base_uri": "https://localhost:8080/",
          "height": 472
        },
        "id": "Id5I1EvGebXR",
        "outputId": "be146936-8c25-4ff8-daae-60cc6e9fa49d"
      },
      "execution_count": null,
      "outputs": [
        {
          "output_type": "display_data",
          "data": {
            "text/plain": [
              "<Figure size 640x480 with 1 Axes>"
            ],
            "image/png": "[encoded data removed]"
          },
          "metadata": {}
        }
      ]
    },
    {
      "cell_type": "markdown",
      "source": [
        "As the histogram shows, there are some outliers in both left and right side and those values as age seem unrealistic."
      ],
      "metadata": {
        "id": "1Scf3swoe86p"
      }
    },
    {
      "cell_type": "code",
      "source": [
        "df = df[(df['Age'] >= 0) & (df['Age'] <= 100)]"
      ],
      "metadata": {
        "id": "kOgq2EgSe3hP"
      },
      "execution_count": 16,
      "outputs": []
    },
    {
      "cell_type": "code",
      "source": [
        "df['Age'].describe()"
      ],
      "metadata": {
        "colab": {
          "base_uri": "https://localhost:8080/",
          "height": 335
        },
        "id": "Nbk2hib9pFPS",
        "outputId": "d83bc489-4860-42d0-9b08-f3f6d7158fa4"
      },
      "execution_count": 18,
      "outputs": [
        {
          "output_type": "execute_result",
          "data": {
            "text/plain": [
              "count    9340.000000\n",
              "mean       48.752141\n",
              "std        17.870036\n",
              "min        18.000000\n",
              "25%        33.000000\n",
              "50%        49.000000\n",
              "75%        64.000000\n",
              "max        79.000000\n",
              "Name: Age, dtype: float64"
            ],
            "text/html": [
              "<div>\n",
              "<style scoped>\n",
              "    .dataframe tbody tr th:only-of-type {\n",
              "        vertical-align: middle;\n",
              "    }\n",
              "\n",
              "    .dataframe tbody tr th {\n",
              "        vertical-align: top;\n",
              "    }\n",
              "\n",
              "    .dataframe thead th {\n",
              "        text-align: right;\n",
              "    }\n",
              "</style>\n",
              "<table border=\"1\" class=\"dataframe\">\n",
              "  <thead>\n",
              "    <tr style=\"text-align: right;\">\n",
              "      <th></th>\n",
              "      <th>Age</th>\n",
              "    </tr>\n",
              "  </thead>\n",
              "  <tbody>\n",
              "    <tr>\n",
              "      <th>count</th>\n",
              "      <td>9340.000000</td>\n",
              "    </tr>\n",
              "    <tr>\n",
              "      <th>mean</th>\n",
              "      <td>48.752141</td>\n",
              "    </tr>\n",
              "    <tr>\n",
              "      <th>std</th>\n",
              "      <td>17.870036</td>\n",
              "    </tr>\n",
              "    <tr>\n",
              "      <th>min</th>\n",
              "      <td>18.000000</td>\n",
              "    </tr>\n",
              "    <tr>\n",
              "      <th>25%</th>\n",
              "      <td>33.000000</td>\n",
              "    </tr>\n",
              "    <tr>\n",
              "      <th>50%</th>\n",
              "      <td>49.000000</td>\n",
              "    </tr>\n",
              "    <tr>\n",
              "      <th>75%</th>\n",
              "      <td>64.000000</td>\n",
              "    </tr>\n",
              "    <tr>\n",
              "      <th>max</th>\n",
              "      <td>79.000000</td>\n",
              "    </tr>\n",
              "  </tbody>\n",
              "</table>\n",
              "</div><br><label><b>dtype:</b> float64</label>"
            ]
          },
          "metadata": {},
          "execution_count": 18
        }
      ]
    },
    {
      "cell_type": "code",
      "source": [
        "df['City'].unique()"
      ],
      "metadata": {
        "colab": {
          "base_uri": "https://localhost:8080/"
        },
        "id": "yPANsGcwpHSl",
        "outputId": "51630db3-50cc-4525-8398-21a946e6e78e"
      },
      "execution_count": 19,
      "outputs": [
        {
          "output_type": "execute_result",
          "data": {
            "text/plain": [
              "array(['Toronto', 'Jasonburgh', 'Singapore', 'Tokyo', 'Berlin', 'Paris',\n",
              "       'Cape Town', 'Invalid_City', 'Rio de Janeiro', 'New Paul',\n",
              "       'West Steven', 'South Cherylland', 'Johnborough', 'West Troy',\n",
              "       'South Thomastown', 'Port Amanda', 'Lake Joelside', 'Sherriview',\n",
              "       'East Richardville', 'Chavezside', 'Ramirezland', 'Rachelchester',\n",
              "       'Jaredville', 'Lake Dalemouth', 'Andrewschester', 'East Jennifer',\n",
              "       'Kimfort', 'East Erin', 'Thomasmouth', 'Eatonchester',\n",
              "       'Lesliebury', 'Burgessborough', 'New Jessica', 'Tracyside',\n",
              "       'Patrickfort', 'Aaronmouth', 'Estesburgh', 'West Amy',\n",
              "       'Port Catherine', 'South Cassandra', 'Hamiltonberg',\n",
              "       'Carrollmouth', 'West Melissaborough', 'Peggychester',\n",
              "       'Bethchester', 'Port Kevin', 'East Tara', 'South Shaunland',\n",
              "       'Youngborough', 'North Jason', 'Holmeshaven', 'Williamton',\n",
              "       'South Justin', 'East Briantown', 'South Stephanie',\n",
              "       'Port Robertton', 'East Audrey', 'Garnerville',\n",
              "       'Lake Kimberlyberg', 'South Eric', 'Jasmineland', 'Laurenfurt',\n",
              "       'New Jack', 'Tylertown', 'South Brittanytown', 'Kristenfurt',\n",
              "       'Jessicamouth', 'South Douglas', 'South Steven', 'Port Davidstad',\n",
              "       'Charlestown', 'North Michaelfurt', 'Douglasshire',\n",
              "       'West Benjaminshire', 'Port Molly', 'New Alexanderside',\n",
              "       'East Andrewburgh', 'Johnstad', 'East Karichester',\n",
              "       'Port Melvinstad', 'East Michelebury', 'Courtneyside',\n",
              "       'Lake Ashley', 'Christopherton', 'East Christopherbury',\n",
              "       'East Jasonfurt', 'New Sallyport', 'Singletonfort', 'Vasquezport',\n",
              "       'North Tamara', 'South Brianna', 'North Jeffreyshire',\n",
              "       'Moodyville', 'West Sandraberg', 'West Kellyside', 'New Maryburgh',\n",
              "       'Blackwellfort', 'Lake Caitlinmouth', 'Tammyside', 'New Shannon',\n",
              "       'Lindaburgh', 'Lake James', 'East Amytown', 'West Brian',\n",
              "       'West Kevin', 'Davisport', 'Erinfurt', 'Greenchester',\n",
              "       'East Scottport', 'West Robert', 'Larsontown', 'East Timothystad',\n",
              "       'East Julieland', 'South James', 'Stephensport', 'Mayfurt',\n",
              "       'Kennedyside', 'Zacharychester', 'Hubbardton', 'Theresahaven',\n",
              "       'Port Shelley', 'West Laurenland', 'Emilyport', 'Williamsport',\n",
              "       'Nicoleton', 'Michaelborough', 'Coleton', 'Ericstad', 'North Toni',\n",
              "       'Lisaland', 'Carrieton', 'Cooperhaven', 'Port Scottville',\n",
              "       'Doyleshire', 'East Samuel', 'South Brittany', 'North Ryanfurt',\n",
              "       'Butlerfurt', 'Hudsonshire', 'Harrisfurt', 'South Jared',\n",
              "       'Jesuschester', 'West Chadburgh', 'Port Veronicaton',\n",
              "       'Franklintown', 'Baileystad', 'Maxwellburgh', 'Robertland',\n",
              "       'Millerstad', 'Matthewside', 'Jonesshire', 'Davidtown',\n",
              "       'Port Abigailberg', 'Chavezland', 'South Jenniferport', 'Lynnland',\n",
              "       'East Williamburgh', 'Garnerview', 'North Steven', 'South Gail',\n",
              "       'South Samuel', 'West Hectorborough', 'Kimberlybury', 'East Traci',\n",
              "       'Bennettchester', 'East Kevinfort', 'East Sarah', 'East Steventon',\n",
              "       'Hollybury', 'Thorntonhaven', 'East Shannon', 'East Theresaberg',\n",
              "       'Lake Roberto', 'North Jameston', 'Cortezberg', 'Port Lisa',\n",
              "       'New Paulstad', 'East Scott', 'New Christophershire',\n",
              "       'Goodwintown', 'New Chelsea', 'Griffintown', 'South Heatherland',\n",
              "       'Paulview', 'Michellefurt', 'East Lisa', 'Lake Kathy',\n",
              "       'South Mariaburgh', 'East Anthonystad', 'East Brian', 'Sarahton',\n",
              "       'New Kevin', 'Scotthaven', 'Alyssafort', 'Santanamouth',\n",
              "       'Lake Angela', 'Michaelview', 'Allenberg', 'West Carol',\n",
              "       'Pennyside', 'Lake Colleenville', 'Lake Luis', 'Lake Ianport',\n",
              "       'Lake Jamesborough', 'Thompsonville', 'Lake Cheryl', 'Joshuafort',\n",
              "       'West Leslie', 'Leonardstad', 'West Martin', 'Ericafurt',\n",
              "       'North Nicholas', 'Thomasland', 'Bakermouth', 'Johnsontown',\n",
              "       'Millerborough', 'Antonioland', 'East Abigail', 'Perezstad',\n",
              "       'North Margaretside', 'West Allisonberg', 'New Ryan', 'Brianport',\n",
              "       'East Williamton', 'Bryanfort', 'South Veronicaport',\n",
              "       'Carterburgh', 'Thomasfurt', 'Port Ruth', 'Wardchester',\n",
              "       'East Williamport', 'North Eric', 'Shannonport', 'Shannonville',\n",
              "       'Maryborough', 'South Alexanderfurt', 'Port Jamie',\n",
              "       'Thompsonburgh', 'North Terrence', 'Danielton', 'South Carolyn',\n",
              "       'New Markton', 'Port Richardfurt', 'West Robertland', 'Lake Kevin',\n",
              "       'Weberton', 'North Christopherhaven', 'Mooreside', 'Phillipville',\n",
              "       'South Laurafort', 'Port Michelleport', 'East Kevinmouth',\n",
              "       'West Angelamouth', 'Port Fredfort', 'Port Christyport',\n",
              "       'Port Kimberly', 'East Gregoryville', 'Lake Heather',\n",
              "       'Suzannemouth', 'West Deborahburgh', 'New Cynthia',\n",
              "       'Lake Judithview', 'Raymondstad', 'Jacobside', 'New Amber',\n",
              "       'Daniellefurt', 'Calebstad', 'Zacharyshire', 'Briggsshire',\n",
              "       'Lawrencechester', 'East Robert', 'Andersonview', 'North Johnside',\n",
              "       'Holtport', 'Lake Angelaborough', 'Pennyfurt', 'Laurenburgh',\n",
              "       'Evanhaven', 'Port Jeremy', 'Bridgestown', 'Tranberg',\n",
              "       'West Christina', 'Kevinshire', 'Lake Phillipberg',\n",
              "       'Cummingsburgh', 'New Thomas', 'Cynthiaborough', 'Madelineborough',\n",
              "       'Mcdowellmouth', 'East Sheena', 'Leviburgh', 'Nicholastown',\n",
              "       'East Donnabury', 'Stephenmouth', 'Bethfurt', 'Adkinston',\n",
              "       'Katherinetown', 'Keyton', 'Lake Randallchester', 'Ashleyfort',\n",
              "       'Mooreborough', 'Tonyaborough', 'North Davidside', 'Danielville',\n",
              "       'Deborahhaven', 'Stewartshire', 'Dixonside', 'Pattersonhaven',\n",
              "       'Kristinaburgh', 'Jillianborough', 'Erichaven', 'Gutierrezland',\n",
              "       'Beckland', 'West Kennethside', 'East Charlesfurt',\n",
              "       'Mcphersonstad', 'Prestonshire', 'South Theresa', 'Port Kristine',\n",
              "       'Mezastad', 'Calebland', 'Alexiston', 'Conradborough',\n",
              "       'Port Rodney', 'North Michaelshire', 'Gregoryland', 'Lake Theresa',\n",
              "       'Terryburgh', 'West Victoria', 'East Jessica', 'South Sally',\n",
              "       'Smithtown', 'Port Blake', 'South Jennifer', 'Moorebury',\n",
              "       'Port Hannahberg', 'Duncanberg', 'Joshuahaven', 'Stokesborough',\n",
              "       'Krystalfort', 'Port Christinastad', 'West Carolbury',\n",
              "       'West Michael', 'Davisstad', 'Alexishaven', 'North Dalehaven',\n",
              "       'Lawrenceview', 'Antonioside', 'Gutierrezburgh', 'Petersonside',\n",
              "       'Robinside', 'Jefferyfurt', 'Kellyfurt', 'Parkerport',\n",
              "       'North Katie', 'Thomastown', 'Claytonstad', 'Garciashire',\n",
              "       'Montoyamouth', 'Johnfurt', 'Port Josephfurt', 'Nicoletown',\n",
              "       'West Amandaland', 'Kristamouth', 'North Richardfurt',\n",
              "       'South Amandafurt', 'Simpsonport', 'Wilsonfurt', 'Genefort',\n",
              "       'West Todd', 'Port Tanya', 'Tammychester', 'Brightborough',\n",
              "       'Codyville', 'Williechester', 'Port Royborough', 'Markshaven',\n",
              "       'West Mariaberg', 'Port Courtneyfort', 'North Carolburgh',\n",
              "       'Evanside', 'Port Kimberlyside', 'Jacksonstad', 'South Johnview',\n",
              "       'Nicolechester', 'Hancockhaven', 'East Aaron', 'Lake Jordan',\n",
              "       'Elizabethshire', 'Lake Davidmouth', 'North Jacquelinefurt',\n",
              "       'South Jasonbury', 'South Jefferyfurt', 'Ambertown', 'Evanshaven',\n",
              "       'North Jack', 'Clarkberg', 'Lake Courtneyside', 'East Wesley',\n",
              "       'East Greghaven', 'South Stephaniehaven', 'Carolynstad',\n",
              "       'South Denise', 'Port Christopherfort', 'Gardnermouth',\n",
              "       'East Ryan', 'Cummingsmouth', 'Jacquelineland', 'Medinaburgh',\n",
              "       'Port Adamland', 'West Christopher', 'New Kevinmouth',\n",
              "       'Walkerburgh', 'West Danielleside', 'Brendafort', 'New Davidshire',\n",
              "       'East Whitney', 'Port Mandy', 'Josephmouth', 'West Seanborough',\n",
              "       'Smithville', 'West Dorothy', 'Port Daniel', 'Hopkinsborough',\n",
              "       'South Hollyshire', 'Alexandertown', 'Moralesside',\n",
              "       'Lake Christopherhaven', 'Jessicaland', 'Jademouth',\n",
              "       'Williammouth', 'New Jesseland', 'North Brianna', 'South Ginaside',\n",
              "       'Lisatown', 'Harperton', 'South Scottstad', 'Lake Patricia',\n",
              "       'Jonathanburgh', 'East Tamaraton', 'Ortizberg', 'Heatherberg',\n",
              "       'Bennettmouth', 'South Sarafort', 'Padillaton', 'Port Rebeccafurt',\n",
              "       'South Kimberly', 'West Savannah', 'East Jessefurt', 'Erinport',\n",
              "       'Dawsonside', 'West Samuel', 'Stevensmouth', 'Mckenzieside',\n",
              "       'Marystad', 'Brandonstad', 'Lake Joseph', 'Kellystad',\n",
              "       'Lake Bernardville', 'South Jamie', 'Kevinhaven', 'Robinsonmouth',\n",
              "       'Rochamouth', 'Marychester', 'Donaldhaven', 'South Andrew',\n",
              "       'Amandashire', 'Mirandafurt', 'Branchtown', 'West Brentmouth',\n",
              "       'New Ronald', 'Rebeccaton', 'Perkinschester', 'Greerside',\n",
              "       'Martinezfurt', 'West Sherryshire', 'Perryborough', 'Josephport',\n",
              "       'Rodriguezfurt', 'Williamside', 'Jamesmouth', 'Lake Markside',\n",
              "       'Stevenhaven', 'North Justinside', 'South Jennifertown',\n",
              "       'South Becky', 'North Emmaborough', 'Williamsville', 'Martinton',\n",
              "       'New Elizabethside', 'Lake Carolynstad', 'Lopezville',\n",
              "       'Perezhaven', 'Gordonton', 'Amyton', 'Jeremyfurt', 'Johnside',\n",
              "       'North Sarah', 'Williamland', 'Lake Jillton', 'Troychester',\n",
              "       'South Natalieton', 'South Jacobfurt', 'Port Andrew',\n",
              "       'Cervantesfurt', 'New Elizabeth', 'Ronaldburgh', 'Abigailstad',\n",
              "       'Rachelton', 'New Jamesview', 'Candacehaven', 'Nelsonside',\n",
              "       'North Marybury', 'West Jacobfort', 'South Davidshire',\n",
              "       'Lake Joseton', 'Colehaven', 'New Karenhaven', 'Deniseland',\n",
              "       'Lake Donaldfurt', 'Lake Michellefort', 'North Denise',\n",
              "       'Potterport', 'Munozhaven', 'Teresamouth', 'Josetown', 'West Gina',\n",
              "       'Port Jessicaland', 'South Tiffany', 'South Amanda',\n",
              "       'Alexanderberg', 'West Denise', 'Novakside', 'Hochester',\n",
              "       'Maryhaven', 'Port Brandon', 'Lake Darrylbury', 'Vargasstad',\n",
              "       'South Teresa', 'South Megan', 'Jenniferberg',\n",
              "       'New Christopherside', 'Lake Jasmine', 'Mariatown', 'Tonystad',\n",
              "       'Smithland', 'Davidmouth', 'South Codyfort', 'Kristinashire',\n",
              "       'South Sarah', 'Johnsonview', 'Lake Gregory', 'Juliafort',\n",
              "       'Port Erin', 'Josephfort', 'Port Jared', 'East Jessicatown',\n",
              "       'West Maryfort', 'South Carolinefurt', 'Mitchellhaven',\n",
              "       'Crystalmouth', 'Lake Stacy', 'Port Timothyshire', 'Johnsonberg',\n",
              "       'Joseland', 'North Christyborough', 'Ashleyland', 'Robertburgh',\n",
              "       'Darrellside', 'Jamesland', 'Rossland', 'North Cynthiaberg',\n",
              "       'Alexisville', 'Lake Toddhaven', 'West Madison', 'Debbieville',\n",
              "       'Torrestown', 'South Ambermouth', 'Juliaview', 'Hannahberg',\n",
              "       'Williamsside', 'South Randy', 'Lake Christinestad',\n",
              "       'Port Carrieland', 'West David', 'Andrewborough', 'North Jerry',\n",
              "       'Valerieton', 'Port Timothy', 'East Heather', 'Mariaton',\n",
              "       'Livingstonmouth', 'North Matthewmouth', 'Nealview', 'Lindseyfort',\n",
              "       'East Lynnburgh', 'Lorishire', 'Tylerport', 'East Andresmouth',\n",
              "       'West Dustinside', 'Michelleland', 'Lake Stephaniemouth',\n",
              "       'Shanetown', 'Washingtonfurt', 'Valentinehaven', 'Kellymouth',\n",
              "       'Glenntown', 'West Ashleymouth', 'West Susan', 'Chanchester',\n",
              "       'Howardview', 'East Andrewshire', 'Lake Shane', 'Seanhaven',\n",
              "       'North Laura', 'Thorntonland', 'Brendanchester', 'Cookland',\n",
              "       'East Shawn', 'Rowlandview', 'North Jessicaside', 'West Matthew',\n",
              "       'New Erinview', 'Lake Michael', 'North Mindy', 'East Marymouth',\n",
              "       'Amandastad', 'Lake Ryan', 'Millerburgh', 'New Taylormouth',\n",
              "       'Youngport', 'Glennberg', 'Rodriguezfort', 'New Mary',\n",
              "       'New Steven', 'North Brianside', 'East Angelabury',\n",
              "       'North Kristiland', 'Lake Hannahfort', 'Joshuaton', 'North Carlos',\n",
              "       'South Davidton', 'Vasquezhaven', 'Amandafurt', 'Lake Jessica',\n",
              "       'New Nicolasmouth', 'Port Kenneth', 'Lindseyside', 'Lucasview',\n",
              "       'Damonchester', 'Mejiaville', 'Kristishire', 'East Elizabethhaven',\n",
              "       'Jamiestad', 'Lake Douglas', 'Garciaton', 'Lake Michaelborough',\n",
              "       'Lake Jamesmouth', 'Nicoleland', 'Dennisport', 'Lake Melissa',\n",
              "       'West Jeremyland', 'Dianaview', 'Sharonside', 'Port Samanthafort',\n",
              "       'Thompsonmouth', 'New Brady', 'West Thomas', 'Morganport',\n",
              "       'Raymondmouth', 'Whiteton', 'Jenniferside', 'Samanthahaven',\n",
              "       'Mooretown', 'Lake Renee', 'Darrellfurt', 'Port Micheal',\n",
              "       'Wilsonside', 'South Richard', 'Port Timothyfurt', 'Millershire',\n",
              "       'Port Patricia', 'Katelynberg', 'Johnsonborough', 'Williamchester',\n",
              "       'Chaveztown', 'Lake Davidshire', 'South Michael', 'Cervantesview',\n",
              "       'North Joelside', 'Jodiville', 'West Richard', 'New Sarah',\n",
              "       'Port Garyton', 'Lake Sophia', 'Maddoxport', 'Amyport',\n",
              "       'Larryview', 'South Ashley', 'Robertstad', 'Armstrongborough',\n",
              "       'Davisbury', 'Dodsonshire', 'North Jessicaland', 'Melissaborough',\n",
              "       'West Taylor', 'East Christopherside', 'South Nicholas',\n",
              "       'Davidsonland', 'Tamaramouth', 'South Janet', 'Port Bethburgh',\n",
              "       'Fritzhaven', 'Lake Austin', 'West Shelleyfort', 'Castillostad',\n",
              "       'West Mark', 'Michaelfurt', 'Lake Kathrynstad', 'Annemouth',\n",
              "       'West Jenniferberg', 'Lake Pamelamouth', 'Douglastown',\n",
              "       'South Jameshaven', 'South Haleytown', 'Fryside', 'South Suzanne',\n",
              "       'Davidsonshire', 'Stevetown', 'Williamsberg', 'Munoztown',\n",
              "       'Port Marcus', 'Frazierport', 'Collinsshire', 'Michelleberg',\n",
              "       'Lake Rickychester', 'Grantview', 'Christopherberg', 'New Jerry',\n",
              "       'Lake Robin', 'Jessicatown', 'Rosarioton', 'Rowlandside',\n",
              "       'East Patricia', 'Katherineton', 'Thomasborough', 'Port Mary',\n",
              "       'Port Laura', 'Leechester', 'West Jodiville', 'Zimmermanland',\n",
              "       'Manningstad', 'West Teresabury', 'Hickmanmouth', 'Lake Anthony',\n",
              "       'Anthonymouth', 'Louisport', 'Allenchester', 'Hallton',\n",
              "       'Lake Julie', 'Bushborough', 'Jonathanland', 'Bryanstad',\n",
              "       'Brownport', 'Collinsmouth', 'Hillchester', 'Christineburgh',\n",
              "       'Williamsbury', 'North Jeremystad', 'East Randallport',\n",
              "       'Rickystad', 'Reynoldsstad', 'Port Heathershire', 'West Jesseland',\n",
              "       'Stewartbury', 'Nathanburgh', 'East Tyler', 'Michaelshire',\n",
              "       'Hernandezstad', 'Lindaville', 'Riveraburgh', 'Eduardoville'],\n",
              "      dtype=object)"
            ]
          },
          "metadata": {},
          "execution_count": 19
        }
      ]
    },
    {
      "cell_type": "code",
      "source": [
        "df['Country'].unique()"
      ],
      "metadata": {
        "colab": {
          "base_uri": "https://localhost:8080/"
        },
        "id": "0ZNXw8_DpYwf",
        "outputId": "0570d8c7-c36a-4ee7-b81e-435f3fc3080d"
      },
      "execution_count": 20,
      "outputs": [
        {
          "output_type": "execute_result",
          "data": {
            "text/plain": [
              "array(['Canada', 'Germany', 'Singapore', 'Invalid_Country', 'France',\n",
              "       'South Africa', 'Brazil', 'Japan'], dtype=object)"
            ]
          },
          "metadata": {},
          "execution_count": 20
        }
      ]
    },
    {
      "cell_type": "code",
      "source": [
        "df = df[df['Country'] != 'Invalid_Country']\n",
        "df['Country'].unique()"
      ],
      "metadata": {
        "colab": {
          "base_uri": "https://localhost:8080/"
        },
        "id": "HCjdPWwqpjCC",
        "outputId": "1998c862-fa48-45a3-d2ae-f7761e647c82"
      },
      "execution_count": 23,
      "outputs": [
        {
          "output_type": "execute_result",
          "data": {
            "text/plain": [
              "array(['Canada', 'Germany', 'Singapore', 'France', 'South Africa',\n",
              "       'Brazil', 'Japan'], dtype=object)"
            ]
          },
          "metadata": {},
          "execution_count": 23
        }
      ]
    },
    {
      "cell_type": "code",
      "source": [
        "df.info()"
      ],
      "metadata": {
        "colab": {
          "base_uri": "https://localhost:8080/"
        },
        "id": "BTlvDWNlraaz",
        "outputId": "a68c56db-ea95-4ed4-a265-fe346996d85a"
      },
      "execution_count": 30,
      "outputs": [
        {
          "output_type": "stream",
          "name": "stdout",
          "text": [
            "<class 'pandas.core.frame.DataFrame'>\n",
            "Index: 9060 entries, 0 to 9999\n",
            "Data columns (total 5 columns):\n",
            " #   Column      Non-Null Count  Dtype \n",
            "---  ------      --------------  ----- \n",
            " 0   CustomerID  9060 non-null   int64 \n",
            " 1   Gender      9060 non-null   object\n",
            " 2   Age         9060 non-null   int64 \n",
            " 3   Country     9060 non-null   object\n",
            " 4   City        9060 non-null   object\n",
            "dtypes: int64(2), object(3)\n",
            "memory usage: 424.7+ KB\n"
          ]
        }
      ]
    },
    {
      "cell_type": "code",
      "source": [
        "df.to_csv('cleaned_cust_info.csv', index=False)\n",
        "\n",
        "from google.colab import files\n",
        "files.download('cleaned_cust_info.csv')"
      ],
      "metadata": {
        "colab": {
          "base_uri": "https://localhost:8080/",
          "height": 17
        },
        "id": "XnpT6sDvq34T",
        "outputId": "552fbb77-8264-4b51-b794-d08145b56606"
      },
      "execution_count": 25,
      "outputs": [
        {
          "output_type": "display_data",
          "data": {
            "text/plain": [
              "<IPython.core.display.Javascript object>"
            ],
            "application/javascript": [
              "\n",
              "    async function download(id, filename, size) {\n",
              "      if (!google.colab.kernel.accessAllowed) {\n",
              "        return;\n",
              "      }\n",
              "      const div = document.createElement('div');\n",
              "      const label = document.createElement('label');\n",
              "      label.textContent = `Downloading \"${filename}\": `;\n",
              "      div.appendChild(label);\n",
              "      const progress = document.createElement('progress');\n",
              "      progress.max = size;\n",
              "      div.appendChild(progress);\n",
              "      document.body.appendChild(div);\n",
              "\n",
              "      const buffers = [];\n",
              "      let downloaded = 0;\n",
              "\n",
              "      const channel = await google.colab.kernel.comms.open(id);\n",
              "      // Send a message to notify the kernel that we're ready.\n",
              "      channel.send({})\n",
              "\n",
              "      for await (const message of channel.messages) {\n",
              "        // Send a message to notify the kernel that we're ready.\n",
              "        channel.send({})\n",
              "        if (message.buffers) {\n",
              "          for (const buffer of message.buffers) {\n",
              "            buffers.push(buffer);\n",
              "            downloaded += buffer.byteLength;\n",
              "            progress.value = downloaded;\n",
              "          }\n",
              "        }\n",
              "      }\n",
              "      const blob = new Blob(buffers, {type: 'application/binary'});\n",
              "      const a = document.createElement('a');\n",
              "      a.href = window.URL.createObjectURL(blob);\n",
              "      a.download = filename;\n",
              "      div.appendChild(a);\n",
              "      a.click();\n",
              "      div.remove();\n",
              "    }\n",
              "  "
            ]
          },
          "metadata": {}
        },
        {
          "output_type": "display_data",
          "data": {
            "text/plain": [
              "<IPython.core.display.Javascript object>"
            ],
            "application/javascript": [
              "download(\"download_34735ad9-f9d3-4a60-a8ab-f3ce2a486ad9\", \"cleaned_cust_info.csv\", 297592)"
            ]
          },
          "metadata": {}
        }
      ]
    },
    {
      "cell_type": "markdown",
      "source": [
        "## Data Cleaning Transaction"
      ],
      "metadata": {
        "id": "RvyjoMQdqx8C"
      }
    },
    {
      "cell_type": "code",
      "source": [
        "url2 = \"https://raw.githubusercontent.com/mdnjabir/rfmanalysis/refs/heads/main/transactions.csv\"\n",
        "df2 = pd.read_csv(url2)\n",
        "df2.head()"
      ],
      "metadata": {
        "colab": {
          "base_uri": "https://localhost:8080/",
          "height": 206
        },
        "id": "OMZwE5t4pwUW",
        "outputId": "a18a0cfd-b52e-4208-9200-387f57f8b251"
      },
      "execution_count": 33,
      "outputs": [
        {
          "output_type": "execute_result",
          "data": {
            "text/plain": [
              "   CustomerID BranchID LastPurchaseDate  TotalTransactions   TotalSpent  \\\n",
              "0       10101   BR-007       02-10-2024                  3  1139.520646   \n",
              "1       10102   BR-004       29-03-2023                  3  1505.257642   \n",
              "2       10103   BR-001       10-09-2024                  2  1047.562892   \n",
              "3       10104   BR-004       09-10-2024                  2  1332.327171   \n",
              "4       10105   BR-004       04-10-2024                  5  1392.766062   \n",
              "\n",
              "  Currency PaymentType  \n",
              "0      EUR      Credit  \n",
              "1      EUR      Credit  \n",
              "2     USDT     Instant  \n",
              "3      USD      Credit  \n",
              "4      GBP     Instant  "
            ],
            "text/html": [
              "\n",
              "  <div id=\"df-2b14dc92-cc1f-46c9-9a8b-a35a6abb9d2c\" class=\"colab-df-container\">\n",
              "    <div>\n",
              "<style scoped>\n",
              "    .dataframe tbody tr th:only-of-type {\n",
              "        vertical-align: middle;\n",
              "    }\n",
              "\n",
              "    .dataframe tbody tr th {\n",
              "        vertical-align: top;\n",
              "    }\n",
              "\n",
              "    .dataframe thead th {\n",
              "        text-align: right;\n",
              "    }\n",
              "</style>\n",
              "<table border=\"1\" class=\"dataframe\">\n",
              "  <thead>\n",
              "    <tr style=\"text-align: right;\">\n",
              "      <th></th>\n",
              "      <th>CustomerID</th>\n",
              "      <th>BranchID</th>\n",
              "      <th>LastPurchaseDate</th>\n",
              "      <th>TotalTransactions</th>\n",
              "      <th>TotalSpent</th>\n",
              "      <th>Currency</th>\n",
              "      <th>PaymentType</th>\n",
              "    </tr>\n",
              "  </thead>\n",
              "  <tbody>\n",
              "    <tr>\n",
              "      <th>0</th>\n",
              "      <td>10101</td>\n",
              "      <td>BR-007</td>\n",
              "      <td>02-10-2024</td>\n",
              "      <td>3</td>\n",
              "      <td>1139.520646</td>\n",
              "      <td>EUR</td>\n",
              "      <td>Credit</td>\n",
              "    </tr>\n",
              "    <tr>\n",
              "      <th>1</th>\n",
              "      <td>10102</td>\n",
              "      <td>BR-004</td>\n",
              "      <td>29-03-2023</td>\n",
              "      <td>3</td>\n",
              "      <td>1505.257642</td>\n",
              "      <td>EUR</td>\n",
              "      <td>Credit</td>\n",
              "    </tr>\n",
              "    <tr>\n",
              "      <th>2</th>\n",
              "      <td>10103</td>\n",
              "      <td>BR-001</td>\n",
              "      <td>10-09-2024</td>\n",
              "      <td>2</td>\n",
              "      <td>1047.562892</td>\n",
              "      <td>USDT</td>\n",
              "      <td>Instant</td>\n",
              "    </tr>\n",
              "    <tr>\n",
              "      <th>3</th>\n",
              "      <td>10104</td>\n",
              "      <td>BR-004</td>\n",
              "      <td>09-10-2024</td>\n",
              "      <td>2</td>\n",
              "      <td>1332.327171</td>\n",
              "      <td>USD</td>\n",
              "      <td>Credit</td>\n",
              "    </tr>\n",
              "    <tr>\n",
              "      <th>4</th>\n",
              "      <td>10105</td>\n",
              "      <td>BR-004</td>\n",
              "      <td>04-10-2024</td>\n",
              "      <td>5</td>\n",
              "      <td>1392.766062</td>\n",
              "      <td>GBP</td>\n",
              "      <td>Instant</td>\n",
              "    </tr>\n",
              "  </tbody>\n",
              "</table>\n",
              "</div>\n",
              "    <div class=\"colab-df-buttons\">\n",
              "\n",
              "  <div class=\"colab-df-container\">\n",
              "    <button class=\"colab-df-convert\" onclick=\"convertToInteractive('df-2b14dc92-cc1f-46c9-9a8b-a35a6abb9d2c')\"\n",
              "            title=\"Convert this dataframe to an interactive table.\"\n",
              "            style=\"display:none;\">\n",
              "\n",
              "  <svg xmlns=\"http://www.w3.org/2000/svg\" height=\"24px\" viewBox=\"0 -960 960 960\">\n",
              "    <path d=\"M120-120v-720h720v720H120Zm60-500h600v-160H180v160Zm220 220h160v-160H400v160Zm0 220h160v-160H400v160ZM180-400h160v-160H180v160Zm440 0h160v-160H620v160ZM180-180h160v-160H180v160Zm440 0h160v-160H620v160Z\"/>\n",
              "  </svg>\n",
              "    </button>\n",
              "\n",
              "  <style>\n",
              "    .colab-df-container {\n",
              "      display:flex;\n",
              "      gap: 12px;\n",
              "    }\n",
              "\n",
              "    .colab-df-convert {\n",
              "      background-color: #E8F0FE;\n",
              "      border: none;\n",
              "      border-radius: 50%;\n",
              "      cursor: pointer;\n",
              "      display: none;\n",
              "      fill: #1967D2;\n",
              "      height: 32px;\n",
              "      padding: 0 0 0 0;\n",
              "      width: 32px;\n",
              "    }\n",
              "\n",
              "    .colab-df-convert:hover {\n",
              "      background-color: #E2EBFA;\n",
              "      box-shadow: 0px 1px 2px rgba(60, 64, 67, 0.3), 0px 1px 3px 1px rgba(60, 64, 67, 0.15);\n",
              "      fill: #174EA6;\n",
              "    }\n",
              "\n",
              "    .colab-df-buttons div {\n",
              "      margin-bottom: 4px;\n",
              "    }\n",
              "\n",
              "    [theme=dark] .colab-df-convert {\n",
              "      background-color: #3B4455;\n",
              "      fill: #D2E3FC;\n",
              "    }\n",
              "\n",
              "    [theme=dark] .colab-df-convert:hover {\n",
              "      background-color: #434B5C;\n",
              "      box-shadow: 0px 1px 3px 1px rgba(0, 0, 0, 0.15);\n",
              "      filter: drop-shadow(0px 1px 2px rgba(0, 0, 0, 0.3));\n",
              "      fill: #FFFFFF;\n",
              "    }\n",
              "  </style>\n",
              "\n",
              "    <script>\n",
              "      const buttonEl =\n",
              "        document.querySelector('#df-2b14dc92-cc1f-46c9-9a8b-a35a6abb9d2c button.colab-df-convert');\n",
              "      buttonEl.style.display =\n",
              "        google.colab.kernel.accessAllowed ? 'block' : 'none';\n",
              "\n",
              "      async function convertToInteractive(key) {\n",
              "        const element = document.querySelector('#df-2b14dc92-cc1f-46c9-9a8b-a35a6abb9d2c');\n",
              "        const dataTable =\n",
              "          await google.colab.kernel.invokeFunction('convertToInteractive',\n",
              "                                                    [key], {});\n",
              "        if (!dataTable) return;\n",
              "\n",
              "        const docLinkHtml = 'Like what you see? Visit the ' +\n",
              "          '<a target=\"_blank\" href=https://colab.research.google.com/notebooks/data_table.ipynb>data table notebook</a>'\n",
              "          + ' to learn more about interactive tables.';\n",
              "        element.innerHTML = '';\n",
              "        dataTable['output_type'] = 'display_data';\n",
              "        await google.colab.output.renderOutput(dataTable, element);\n",
              "        const docLink = document.createElement('div');\n",
              "        docLink.innerHTML = docLinkHtml;\n",
              "        element.appendChild(docLink);\n",
              "      }\n",
              "    </script>\n",
              "  </div>\n",
              "\n",
              "\n",
              "    <div id=\"df-abb5a0c9-8961-40e1-a1b5-34e4ba686e30\">\n",
              "      <button class=\"colab-df-quickchart\" onclick=\"quickchart('df-abb5a0c9-8961-40e1-a1b5-34e4ba686e30')\"\n",
              "                title=\"Suggest charts\"\n",
              "                style=\"display:none;\">\n",
              "\n",
              "<svg xmlns=\"http://www.w3.org/2000/svg\" height=\"24px\"viewBox=\"0 0 24 24\"\n",
              "     width=\"24px\">\n",
              "    <g>\n",
              "        <path d=\"M19 3H5c-1.1 0-2 .9-2 2v14c0 1.1.9 2 2 2h14c1.1 0 2-.9 2-2V5c0-1.1-.9-2-2-2zM9 17H7v-7h2v7zm4 0h-2V7h2v10zm4 0h-2v-4h2v4z\"/>\n",
              "    </g>\n",
              "</svg>\n",
              "      </button>\n",
              "\n",
              "<style>\n",
              "  .colab-df-quickchart {\n",
              "      --bg-color: #E8F0FE;\n",
              "      --fill-color: #1967D2;\n",
              "      --hover-bg-color: #E2EBFA;\n",
              "      --hover-fill-color: #174EA6;\n",
              "      --disabled-fill-color: #AAA;\n",
              "      --disabled-bg-color: #DDD;\n",
              "  }\n",
              "\n",
              "  [theme=dark] .colab-df-quickchart {\n",
              "      --bg-color: #3B4455;\n",
              "      --fill-color: #D2E3FC;\n",
              "      --hover-bg-color: #434B5C;\n",
              "      --hover-fill-color: #FFFFFF;\n",
              "      --disabled-bg-color: #3B4455;\n",
              "      --disabled-fill-color: #666;\n",
              "  }\n",
              "\n",
              "  .colab-df-quickchart {\n",
              "    background-color: var(--bg-color);\n",
              "    border: none;\n",
              "    border-radius: 50%;\n",
              "    cursor: pointer;\n",
              "    display: none;\n",
              "    fill: var(--fill-color);\n",
              "    height: 32px;\n",
              "    padding: 0;\n",
              "    width: 32px;\n",
              "  }\n",
              "\n",
              "  .colab-df-quickchart:hover {\n",
              "    background-color: var(--hover-bg-color);\n",
              "    box-shadow: 0 1px 2px rgba(60, 64, 67, 0.3), 0 1px 3px 1px rgba(60, 64, 67, 0.15);\n",
              "    fill: var(--button-hover-fill-color);\n",
              "  }\n",
              "\n",
              "  .colab-df-quickchart-complete:disabled,\n",
              "  .colab-df-quickchart-complete:disabled:hover {\n",
              "    background-color: var(--disabled-bg-color);\n",
              "    fill: var(--disabled-fill-color);\n",
              "    box-shadow: none;\n",
              "  }\n",
              "\n",
              "  .colab-df-spinner {\n",
              "    border: 2px solid var(--fill-color);\n",
              "    border-color: transparent;\n",
              "    border-bottom-color: var(--fill-color);\n",
              "    animation:\n",
              "      spin 1s steps(1) infinite;\n",
              "  }\n",
              "\n",
              "  @keyframes spin {\n",
              "    0% {\n",
              "      border-color: transparent;\n",
              "      border-bottom-color: var(--fill-color);\n",
              "      border-left-color: var(--fill-color);\n",
              "    }\n",
              "    20% {\n",
              "      border-color: transparent;\n",
              "      border-left-color: var(--fill-color);\n",
              "      border-top-color: var(--fill-color);\n",
              "    }\n",
              "    30% {\n",
              "      border-color: transparent;\n",
              "      border-left-color: var(--fill-color);\n",
              "      border-top-color: var(--fill-color);\n",
              "      border-right-color: var(--fill-color);\n",
              "    }\n",
              "    40% {\n",
              "      border-color: transparent;\n",
              "      border-right-color: var(--fill-color);\n",
              "      border-top-color: var(--fill-color);\n",
              "    }\n",
              "    60% {\n",
              "      border-color: transparent;\n",
              "      border-right-color: var(--fill-color);\n",
              "    }\n",
              "    80% {\n",
              "      border-color: transparent;\n",
              "      border-right-color: var(--fill-color);\n",
              "      border-bottom-color: var(--fill-color);\n",
              "    }\n",
              "    90% {\n",
              "      border-color: transparent;\n",
              "      border-bottom-color: var(--fill-color);\n",
              "    }\n",
              "  }\n",
              "</style>\n",
              "\n",
              "      <script>\n",
              "        async function quickchart(key) {\n",
              "          const quickchartButtonEl =\n",
              "            document.querySelector('#' + key + ' button');\n",
              "          quickchartButtonEl.disabled = true;  // To prevent multiple clicks.\n",
              "          quickchartButtonEl.classList.add('colab-df-spinner');\n",
              "          try {\n",
              "            const charts = await google.colab.kernel.invokeFunction(\n",
              "                'suggestCharts', [key], {});\n",
              "          } catch (error) {\n",
              "            console.error('Error during call to suggestCharts:', error);\n",
              "          }\n",
              "          quickchartButtonEl.classList.remove('colab-df-spinner');\n",
              "          quickchartButtonEl.classList.add('colab-df-quickchart-complete');\n",
              "        }\n",
              "        (() => {\n",
              "          let quickchartButtonEl =\n",
              "            document.querySelector('#df-abb5a0c9-8961-40e1-a1b5-34e4ba686e30 button');\n",
              "          quickchartButtonEl.style.display =\n",
              "            google.colab.kernel.accessAllowed ? 'block' : 'none';\n",
              "        })();\n",
              "      </script>\n",
              "    </div>\n",
              "\n",
              "    </div>\n",
              "  </div>\n"
            ],
            "application/vnd.google.colaboratory.intrinsic+json": {
              "type": "dataframe",
              "variable_name": "df2",
              "summary": "{\n  \"name\": \"df2\",\n  \"rows\": 10000,\n  \"fields\": [\n    {\n      \"column\": \"CustomerID\",\n      \"properties\": {\n        \"dtype\": \"number\",\n        \"std\": 2886,\n        \"min\": 10101,\n        \"max\": 20100,\n        \"num_unique_values\": 10000,\n        \"samples\": [\n          16353,\n          14785,\n          11832\n        ],\n        \"semantic_type\": \"\",\n        \"description\": \"\"\n      }\n    },\n    {\n      \"column\": \"BranchID\",\n      \"properties\": {\n        \"dtype\": \"category\",\n        \"num_unique_values\": 7,\n        \"samples\": [\n          \"BR-007\",\n          \"BR-004\",\n          \"BR-002\"\n        ],\n        \"semantic_type\": \"\",\n        \"description\": \"\"\n      }\n    },\n    {\n      \"column\": \"LastPurchaseDate\",\n      \"properties\": {\n        \"dtype\": \"category\",\n        \"num_unique_values\": 731,\n        \"samples\": [\n          \"19-09-2023\",\n          \"31-12-2023\",\n          \"11-10-2024\"\n        ],\n        \"semantic_type\": \"\",\n        \"description\": \"\"\n      }\n    },\n    {\n      \"column\": \"TotalTransactions\",\n      \"properties\": {\n        \"dtype\": \"number\",\n        \"std\": 1,\n        \"min\": 0,\n        \"max\": 12,\n        \"num_unique_values\": 13,\n        \"samples\": [\n          10,\n          9,\n          3\n        ],\n        \"semantic_type\": \"\",\n        \"description\": \"\"\n      }\n    },\n    {\n      \"column\": \"TotalSpent\",\n      \"properties\": {\n        \"dtype\": \"number\",\n        \"std\": 25106.60883698123,\n        \"min\": -69916.75329,\n        \"max\": 257773.5165,\n        \"num_unique_values\": 10000,\n        \"samples\": [\n          714.0119768,\n          1262.89722,\n          434.6717447\n        ],\n        \"semantic_type\": \"\",\n        \"description\": \"\"\n      }\n    },\n    {\n      \"column\": \"Currency\",\n      \"properties\": {\n        \"dtype\": \"category\",\n        \"num_unique_values\": 4,\n        \"samples\": [\n          \"USDT\",\n          \"GBP\",\n          \"EUR\"\n        ],\n        \"semantic_type\": \"\",\n        \"description\": \"\"\n      }\n    },\n    {\n      \"column\": \"PaymentType\",\n      \"properties\": {\n        \"dtype\": \"category\",\n        \"num_unique_values\": 2,\n        \"samples\": [\n          \"Instant\",\n          \"Credit\"\n        ],\n        \"semantic_type\": \"\",\n        \"description\": \"\"\n      }\n    }\n  ]\n}"
            }
          },
          "metadata": {},
          "execution_count": 33
        }
      ]
    },
    {
      "cell_type": "code",
      "source": [
        "valid_ids = df['CustomerID'].unique()"
      ],
      "metadata": {
        "id": "DuRRNthhqhPH"
      },
      "execution_count": 27,
      "outputs": []
    },
    {
      "cell_type": "code",
      "source": [
        "df2_filtered = df2[df2['CustomerID'].isin(valid_ids)]"
      ],
      "metadata": {
        "id": "Z0WoeH71rJD7"
      },
      "execution_count": 28,
      "outputs": []
    },
    {
      "cell_type": "code",
      "source": [
        "df2_filtered.info()"
      ],
      "metadata": {
        "colab": {
          "base_uri": "https://localhost:8080/"
        },
        "id": "arQk7ADTrPzZ",
        "outputId": "a72809b4-b69c-44c5-89b3-75402e80123f"
      },
      "execution_count": 29,
      "outputs": [
        {
          "output_type": "stream",
          "name": "stdout",
          "text": [
            "<class 'pandas.core.frame.DataFrame'>\n",
            "Index: 9060 entries, 0 to 9999\n",
            "Data columns (total 7 columns):\n",
            " #   Column             Non-Null Count  Dtype  \n",
            "---  ------             --------------  -----  \n",
            " 0   CustomerID         9060 non-null   int64  \n",
            " 1   BranchID           9060 non-null   object \n",
            " 2   LastPurchaseDate   9060 non-null   object \n",
            " 3   TotalTransactions  9060 non-null   int64  \n",
            " 4   TotalSpent         9060 non-null   float64\n",
            " 5   Currency           9060 non-null   object \n",
            " 6   PaymentType        9060 non-null   object \n",
            "dtypes: float64(1), int64(2), object(4)\n",
            "memory usage: 566.2+ KB\n"
          ]
        }
      ]
    },
    {
      "cell_type": "code",
      "source": [
        "df2_filtered.describe()"
      ],
      "metadata": {
        "colab": {
          "base_uri": "https://localhost:8080/",
          "height": 300
        },
        "id": "vDsoWGrQrXEL",
        "outputId": "900d8c5e-0c88-450a-ef3a-54443e2dd7a4"
      },
      "execution_count": 32,
      "outputs": [
        {
          "output_type": "execute_result",
          "data": {
            "text/plain": [
              "         CustomerID  TotalTransactions     TotalSpent\n",
              "count   9060.000000        9060.000000    9060.000000\n",
              "mean   15109.548896           2.991832    6357.575222\n",
              "std     2883.572587           1.720040   25068.285833\n",
              "min    10101.000000           0.000000  -69916.753290\n",
              "25%    12614.750000           2.000000     681.844553\n",
              "50%    15111.500000           3.000000    1027.541868\n",
              "75%    17607.250000           4.000000    1404.013771\n",
              "max    20100.000000          12.000000  257773.516500"
            ],
            "text/html": [
              "\n",
              "  <div id=\"df-f5d8694b-421a-49a5-b4c2-a90fa82f967e\" class=\"colab-df-container\">\n",
              "    <div>\n",
              "<style scoped>\n",
              "    .dataframe tbody tr th:only-of-type {\n",
              "        vertical-align: middle;\n",
              "    }\n",
              "\n",
              "    .dataframe tbody tr th {\n",
              "        vertical-align: top;\n",
              "    }\n",
              "\n",
              "    .dataframe thead th {\n",
              "        text-align: right;\n",
              "    }\n",
              "</style>\n",
              "<table border=\"1\" class=\"dataframe\">\n",
              "  <thead>\n",
              "    <tr style=\"text-align: right;\">\n",
              "      <th></th>\n",
              "      <th>CustomerID</th>\n",
              "      <th>TotalTransactions</th>\n",
              "      <th>TotalSpent</th>\n",
              "    </tr>\n",
              "  </thead>\n",
              "  <tbody>\n",
              "    <tr>\n",
              "      <th>count</th>\n",
              "      <td>9060.000000</td>\n",
              "      <td>9060.000000</td>\n",
              "      <td>9060.000000</td>\n",
              "    </tr>\n",
              "    <tr>\n",
              "      <th>mean</th>\n",
              "      <td>15109.548896</td>\n",
              "      <td>2.991832</td>\n",
              "      <td>6357.575222</td>\n",
              "    </tr>\n",
              "    <tr>\n",
              "      <th>std</th>\n",
              "      <td>2883.572587</td>\n",
              "      <td>1.720040</td>\n",
              "      <td>25068.285833</td>\n",
              "    </tr>\n",
              "    <tr>\n",
              "      <th>min</th>\n",
              "      <td>10101.000000</td>\n",
              "      <td>0.000000</td>\n",
              "      <td>-69916.753290</td>\n",
              "    </tr>\n",
              "    <tr>\n",
              "      <th>25%</th>\n",
              "      <td>12614.750000</td>\n",
              "      <td>2.000000</td>\n",
              "      <td>681.844553</td>\n",
              "    </tr>\n",
              "    <tr>\n",
              "      <th>50%</th>\n",
              "      <td>15111.500000</td>\n",
              "      <td>3.000000</td>\n",
              "      <td>1027.541868</td>\n",
              "    </tr>\n",
              "    <tr>\n",
              "      <th>75%</th>\n",
              "      <td>17607.250000</td>\n",
              "      <td>4.000000</td>\n",
              "      <td>1404.013771</td>\n",
              "    </tr>\n",
              "    <tr>\n",
              "      <th>max</th>\n",
              "      <td>20100.000000</td>\n",
              "      <td>12.000000</td>\n",
              "      <td>257773.516500</td>\n",
              "    </tr>\n",
              "  </tbody>\n",
              "</table>\n",
              "</div>\n",
              "    <div class=\"colab-df-buttons\">\n",
              "\n",
              "  <div class=\"colab-df-container\">\n",
              "    <button class=\"colab-df-convert\" onclick=\"convertToInteractive('df-f5d8694b-421a-49a5-b4c2-a90fa82f967e')\"\n",
              "            title=\"Convert this dataframe to an interactive table.\"\n",
              "            style=\"display:none;\">\n",
              "\n",
              "  <svg xmlns=\"http://www.w3.org/2000/svg\" height=\"24px\" viewBox=\"0 -960 960 960\">\n",
              "    <path d=\"M120-120v-720h720v720H120Zm60-500h600v-160H180v160Zm220 220h160v-160H400v160Zm0 220h160v-160H400v160ZM180-400h160v-160H180v160Zm440 0h160v-160H620v160ZM180-180h160v-160H180v160Zm440 0h160v-160H620v160Z\"/>\n",
              "  </svg>\n",
              "    </button>\n",
              "\n",
              "  <style>\n",
              "    .colab-df-container {\n",
              "      display:flex;\n",
              "      gap: 12px;\n",
              "    }\n",
              "\n",
              "    .colab-df-convert {\n",
              "      background-color: #E8F0FE;\n",
              "      border: none;\n",
              "      border-radius: 50%;\n",
              "      cursor: pointer;\n",
              "      display: none;\n",
              "      fill: #1967D2;\n",
              "      height: 32px;\n",
              "      padding: 0 0 0 0;\n",
              "      width: 32px;\n",
              "    }\n",
              "\n",
              "    .colab-df-convert:hover {\n",
              "      background-color: #E2EBFA;\n",
              "      box-shadow: 0px 1px 2px rgba(60, 64, 67, 0.3), 0px 1px 3px 1px rgba(60, 64, 67, 0.15);\n",
              "      fill: #174EA6;\n",
              "    }\n",
              "\n",
              "    .colab-df-buttons div {\n",
              "      margin-bottom: 4px;\n",
              "    }\n",
              "\n",
              "    [theme=dark] .colab-df-convert {\n",
              "      background-color: #3B4455;\n",
              "      fill: #D2E3FC;\n",
              "    }\n",
              "\n",
              "    [theme=dark] .colab-df-convert:hover {\n",
              "      background-color: #434B5C;\n",
              "      box-shadow: 0px 1px 3px 1px rgba(0, 0, 0, 0.15);\n",
              "      filter: drop-shadow(0px 1px 2px rgba(0, 0, 0, 0.3));\n",
              "      fill: #FFFFFF;\n",
              "    }\n",
              "  </style>\n",
              "\n",
              "    <script>\n",
              "      const buttonEl =\n",
              "        document.querySelector('#df-f5d8694b-421a-49a5-b4c2-a90fa82f967e button.colab-df-convert');\n",
              "      buttonEl.style.display =\n",
              "        google.colab.kernel.accessAllowed ? 'block' : 'none';\n",
              "\n",
              "      async function convertToInteractive(key) {\n",
              "        const element = document.querySelector('#df-f5d8694b-421a-49a5-b4c2-a90fa82f967e');\n",
              "        const dataTable =\n",
              "          await google.colab.kernel.invokeFunction('convertToInteractive',\n",
              "                                                    [key], {});\n",
              "        if (!dataTable) return;\n",
              "\n",
              "        const docLinkHtml = 'Like what you see? Visit the ' +\n",
              "          '<a target=\"_blank\" href=https://colab.research.google.com/notebooks/data_table.ipynb>data table notebook</a>'\n",
              "          + ' to learn more about interactive tables.';\n",
              "        element.innerHTML = '';\n",
              "        dataTable['output_type'] = 'display_data';\n",
              "        await google.colab.output.renderOutput(dataTable, element);\n",
              "        const docLink = document.createElement('div');\n",
              "        docLink.innerHTML = docLinkHtml;\n",
              "        element.appendChild(docLink);\n",
              "      }\n",
              "    </script>\n",
              "  </div>\n",
              "\n",
              "\n",
              "    <div id=\"df-24413be4-dd59-450f-9bf5-d40ee824d84e\">\n",
              "      <button class=\"colab-df-quickchart\" onclick=\"quickchart('df-24413be4-dd59-450f-9bf5-d40ee824d84e')\"\n",
              "                title=\"Suggest charts\"\n",
              "                style=\"display:none;\">\n",
              "\n",
              "<svg xmlns=\"http://www.w3.org/2000/svg\" height=\"24px\"viewBox=\"0 0 24 24\"\n",
              "     width=\"24px\">\n",
              "    <g>\n",
              "        <path d=\"M19 3H5c-1.1 0-2 .9-2 2v14c0 1.1.9 2 2 2h14c1.1 0 2-.9 2-2V5c0-1.1-.9-2-2-2zM9 17H7v-7h2v7zm4 0h-2V7h2v10zm4 0h-2v-4h2v4z\"/>\n",
              "    </g>\n",
              "</svg>\n",
              "      </button>\n",
              "\n",
              "<style>\n",
              "  .colab-df-quickchart {\n",
              "      --bg-color: #E8F0FE;\n",
              "      --fill-color: #1967D2;\n",
              "      --hover-bg-color: #E2EBFA;\n",
              "      --hover-fill-color: #174EA6;\n",
              "      --disabled-fill-color: #AAA;\n",
              "      --disabled-bg-color: #DDD;\n",
              "  }\n",
              "\n",
              "  [theme=dark] .colab-df-quickchart {\n",
              "      --bg-color: #3B4455;\n",
              "      --fill-color: #D2E3FC;\n",
              "      --hover-bg-color: #434B5C;\n",
              "      --hover-fill-color: #FFFFFF;\n",
              "      --disabled-bg-color: #3B4455;\n",
              "      --disabled-fill-color: #666;\n",
              "  }\n",
              "\n",
              "  .colab-df-quickchart {\n",
              "    background-color: var(--bg-color);\n",
              "    border: none;\n",
              "    border-radius: 50%;\n",
              "    cursor: pointer;\n",
              "    display: none;\n",
              "    fill: var(--fill-color);\n",
              "    height: 32px;\n",
              "    padding: 0;\n",
              "    width: 32px;\n",
              "  }\n",
              "\n",
              "  .colab-df-quickchart:hover {\n",
              "    background-color: var(--hover-bg-color);\n",
              "    box-shadow: 0 1px 2px rgba(60, 64, 67, 0.3), 0 1px 3px 1px rgba(60, 64, 67, 0.15);\n",
              "    fill: var(--button-hover-fill-color);\n",
              "  }\n",
              "\n",
              "  .colab-df-quickchart-complete:disabled,\n",
              "  .colab-df-quickchart-complete:disabled:hover {\n",
              "    background-color: var(--disabled-bg-color);\n",
              "    fill: var(--disabled-fill-color);\n",
              "    box-shadow: none;\n",
              "  }\n",
              "\n",
              "  .colab-df-spinner {\n",
              "    border: 2px solid var(--fill-color);\n",
              "    border-color: transparent;\n",
              "    border-bottom-color: var(--fill-color);\n",
              "    animation:\n",
              "      spin 1s steps(1) infinite;\n",
              "  }\n",
              "\n",
              "  @keyframes spin {\n",
              "    0% {\n",
              "      border-color: transparent;\n",
              "      border-bottom-color: var(--fill-color);\n",
              "      border-left-color: var(--fill-color);\n",
              "    }\n",
              "    20% {\n",
              "      border-color: transparent;\n",
              "      border-left-color: var(--fill-color);\n",
              "      border-top-color: var(--fill-color);\n",
              "    }\n",
              "    30% {\n",
              "      border-color: transparent;\n",
              "      border-left-color: var(--fill-color);\n",
              "      border-top-color: var(--fill-color);\n",
              "      border-right-color: var(--fill-color);\n",
              "    }\n",
              "    40% {\n",
              "      border-color: transparent;\n",
              "      border-right-color: var(--fill-color);\n",
              "      border-top-color: var(--fill-color);\n",
              "    }\n",
              "    60% {\n",
              "      border-color: transparent;\n",
              "      border-right-color: var(--fill-color);\n",
              "    }\n",
              "    80% {\n",
              "      border-color: transparent;\n",
              "      border-right-color: var(--fill-color);\n",
              "      border-bottom-color: var(--fill-color);\n",
              "    }\n",
              "    90% {\n",
              "      border-color: transparent;\n",
              "      border-bottom-color: var(--fill-color);\n",
              "    }\n",
              "  }\n",
              "</style>\n",
              "\n",
              "      <script>\n",
              "        async function quickchart(key) {\n",
              "          const quickchartButtonEl =\n",
              "            document.querySelector('#' + key + ' button');\n",
              "          quickchartButtonEl.disabled = true;  // To prevent multiple clicks.\n",
              "          quickchartButtonEl.classList.add('colab-df-spinner');\n",
              "          try {\n",
              "            const charts = await google.colab.kernel.invokeFunction(\n",
              "                'suggestCharts', [key], {});\n",
              "          } catch (error) {\n",
              "            console.error('Error during call to suggestCharts:', error);\n",
              "          }\n",
              "          quickchartButtonEl.classList.remove('colab-df-spinner');\n",
              "          quickchartButtonEl.classList.add('colab-df-quickchart-complete');\n",
              "        }\n",
              "        (() => {\n",
              "          let quickchartButtonEl =\n",
              "            document.querySelector('#df-24413be4-dd59-450f-9bf5-d40ee824d84e button');\n",
              "          quickchartButtonEl.style.display =\n",
              "            google.colab.kernel.accessAllowed ? 'block' : 'none';\n",
              "        })();\n",
              "      </script>\n",
              "    </div>\n",
              "\n",
              "    </div>\n",
              "  </div>\n"
            ],
            "application/vnd.google.colaboratory.intrinsic+json": {
              "type": "dataframe",
              "summary": "{\n  \"name\": \"df2_filtered\",\n  \"rows\": 8,\n  \"fields\": [\n    {\n      \"column\": \"CustomerID\",\n      \"properties\": {\n        \"dtype\": \"number\",\n        \"std\": 5434.208470245369,\n        \"min\": 2883.5725871120285,\n        \"max\": 20100.0,\n        \"num_unique_values\": 8,\n        \"samples\": [\n          15109.548896247241,\n          15111.5,\n          9060.0\n        ],\n        \"semantic_type\": \"\",\n        \"description\": \"\"\n      }\n    },\n    {\n      \"column\": \"TotalTransactions\",\n      \"properties\": {\n        \"dtype\": \"number\",\n        \"std\": 3201.89709126145,\n        \"min\": 0.0,\n        \"max\": 9060.0,\n        \"num_unique_values\": 8,\n        \"samples\": [\n          2.991832229580574,\n          3.0,\n          9060.0\n        ],\n        \"semantic_type\": \"\",\n        \"description\": \"\"\n      }\n    },\n    {\n      \"column\": \"TotalSpent\",\n      \"properties\": {\n        \"dtype\": \"number\",\n        \"std\": 96653.62687633805,\n        \"min\": -69916.75329,\n        \"max\": 257773.5165,\n        \"num_unique_values\": 8,\n        \"samples\": [\n          6357.575222054685,\n          1027.5418685,\n          9060.0\n        ],\n        \"semantic_type\": \"\",\n        \"description\": \"\"\n      }\n    }\n  ]\n}"
            }
          },
          "metadata": {},
          "execution_count": 32
        }
      ]
    },
    {
      "cell_type": "markdown",
      "source": [
        "There are negative values in total Spent, which is impossible."
      ],
      "metadata": {
        "id": "E3nvLa6kr2Vr"
      }
    },
    {
      "cell_type": "code",
      "source": [
        "df2_filtered = df2_filtered[df2_filtered['TotalSpent'] >= 0]\n",
        "df2_filtered.describe()"
      ],
      "metadata": {
        "colab": {
          "base_uri": "https://localhost:8080/",
          "height": 300
        },
        "id": "ANIjd7mGrhGV",
        "outputId": "c5b5c556-581a-4b52-8031-216110f4938a"
      },
      "execution_count": 41,
      "outputs": [
        {
          "output_type": "execute_result",
          "data": {
            "text/plain": [
              "         CustomerID  TotalTransactions     TotalSpent\n",
              "count   8858.000000        8858.000000    8858.000000\n",
              "mean   15111.492662           2.993114    6533.761967\n",
              "std     2881.118142           1.718359   25302.928826\n",
              "min    10101.000000           0.000000       1.484643\n",
              "25%    12626.250000           2.000000     706.640435\n",
              "50%    15115.500000           3.000000    1041.325249\n",
              "75%    17607.750000           4.000000    1412.627602\n",
              "max    20100.000000          12.000000  257773.516500"
            ],
            "text/html": [
              "\n",
              "  <div id=\"df-d690a2dd-7dc8-4099-882e-95861db38ea0\" class=\"colab-df-container\">\n",
              "    <div>\n",
              "<style scoped>\n",
              "    .dataframe tbody tr th:only-of-type {\n",
              "        vertical-align: middle;\n",
              "    }\n",
              "\n",
              "    .dataframe tbody tr th {\n",
              "        vertical-align: top;\n",
              "    }\n",
              "\n",
              "    .dataframe thead th {\n",
              "        text-align: right;\n",
              "    }\n",
              "</style>\n",
              "<table border=\"1\" class=\"dataframe\">\n",
              "  <thead>\n",
              "    <tr style=\"text-align: right;\">\n",
              "      <th></th>\n",
              "      <th>CustomerID</th>\n",
              "      <th>TotalTransactions</th>\n",
              "      <th>TotalSpent</th>\n",
              "    </tr>\n",
              "  </thead>\n",
              "  <tbody>\n",
              "    <tr>\n",
              "      <th>count</th>\n",
              "      <td>8858.000000</td>\n",
              "      <td>8858.000000</td>\n",
              "      <td>8858.000000</td>\n",
              "    </tr>\n",
              "    <tr>\n",
              "      <th>mean</th>\n",
              "      <td>15111.492662</td>\n",
              "      <td>2.993114</td>\n",
              "      <td>6533.761967</td>\n",
              "    </tr>\n",
              "    <tr>\n",
              "      <th>std</th>\n",
              "      <td>2881.118142</td>\n",
              "      <td>1.718359</td>\n",
              "      <td>25302.928826</td>\n",
              "    </tr>\n",
              "    <tr>\n",
              "      <th>min</th>\n",
              "      <td>10101.000000</td>\n",
              "      <td>0.000000</td>\n",
              "      <td>1.484643</td>\n",
              "    </tr>\n",
              "    <tr>\n",
              "      <th>25%</th>\n",
              "      <td>12626.250000</td>\n",
              "      <td>2.000000</td>\n",
              "      <td>706.640435</td>\n",
              "    </tr>\n",
              "    <tr>\n",
              "      <th>50%</th>\n",
              "      <td>15115.500000</td>\n",
              "      <td>3.000000</td>\n",
              "      <td>1041.325249</td>\n",
              "    </tr>\n",
              "    <tr>\n",
              "      <th>75%</th>\n",
              "      <td>17607.750000</td>\n",
              "      <td>4.000000</td>\n",
              "      <td>1412.627602</td>\n",
              "    </tr>\n",
              "    <tr>\n",
              "      <th>max</th>\n",
              "      <td>20100.000000</td>\n",
              "      <td>12.000000</td>\n",
              "      <td>257773.516500</td>\n",
              "    </tr>\n",
              "  </tbody>\n",
              "</table>\n",
              "</div>\n",
              "    <div class=\"colab-df-buttons\">\n",
              "\n",
              "  <div class=\"colab-df-container\">\n",
              "    <button class=\"colab-df-convert\" onclick=\"convertToInteractive('df-d690a2dd-7dc8-4099-882e-95861db38ea0')\"\n",
              "            title=\"Convert this dataframe to an interactive table.\"\n",
              "            style=\"display:none;\">\n",
              "\n",
              "  <svg xmlns=\"http://www.w3.org/2000/svg\" height=\"24px\" viewBox=\"0 -960 960 960\">\n",
              "    <path d=\"M120-120v-720h720v720H120Zm60-500h600v-160H180v160Zm220 220h160v-160H400v160Zm0 220h160v-160H400v160ZM180-400h160v-160H180v160Zm440 0h160v-160H620v160ZM180-180h160v-160H180v160Zm440 0h160v-160H620v160Z\"/>\n",
              "  </svg>\n",
              "    </button>\n",
              "\n",
              "  <style>\n",
              "    .colab-df-container {\n",
              "      display:flex;\n",
              "      gap: 12px;\n",
              "    }\n",
              "\n",
              "    .colab-df-convert {\n",
              "      background-color: #E8F0FE;\n",
              "      border: none;\n",
              "      border-radius: 50%;\n",
              "      cursor: pointer;\n",
              "      display: none;\n",
              "      fill: #1967D2;\n",
              "      height: 32px;\n",
              "      padding: 0 0 0 0;\n",
              "      width: 32px;\n",
              "    }\n",
              "\n",
              "    .colab-df-convert:hover {\n",
              "      background-color: #E2EBFA;\n",
              "      box-shadow: 0px 1px 2px rgba(60, 64, 67, 0.3), 0px 1px 3px 1px rgba(60, 64, 67, 0.15);\n",
              "      fill: #174EA6;\n",
              "    }\n",
              "\n",
              "    .colab-df-buttons div {\n",
              "      margin-bottom: 4px;\n",
              "    }\n",
              "\n",
              "    [theme=dark] .colab-df-convert {\n",
              "      background-color: #3B4455;\n",
              "      fill: #D2E3FC;\n",
              "    }\n",
              "\n",
              "    [theme=dark] .colab-df-convert:hover {\n",
              "      background-color: #434B5C;\n",
              "      box-shadow: 0px 1px 3px 1px rgba(0, 0, 0, 0.15);\n",
              "      filter: drop-shadow(0px 1px 2px rgba(0, 0, 0, 0.3));\n",
              "      fill: #FFFFFF;\n",
              "    }\n",
              "  </style>\n",
              "\n",
              "    <script>\n",
              "      const buttonEl =\n",
              "        document.querySelector('#df-d690a2dd-7dc8-4099-882e-95861db38ea0 button.colab-df-convert');\n",
              "      buttonEl.style.display =\n",
              "        google.colab.kernel.accessAllowed ? 'block' : 'none';\n",
              "\n",
              "      async function convertToInteractive(key) {\n",
              "        const element = document.querySelector('#df-d690a2dd-7dc8-4099-882e-95861db38ea0');\n",
              "        const dataTable =\n",
              "          await google.colab.kernel.invokeFunction('convertToInteractive',\n",
              "                                                    [key], {});\n",
              "        if (!dataTable) return;\n",
              "\n",
              "        const docLinkHtml = 'Like what you see? Visit the ' +\n",
              "          '<a target=\"_blank\" href=https://colab.research.google.com/notebooks/data_table.ipynb>data table notebook</a>'\n",
              "          + ' to learn more about interactive tables.';\n",
              "        element.innerHTML = '';\n",
              "        dataTable['output_type'] = 'display_data';\n",
              "        await google.colab.output.renderOutput(dataTable, element);\n",
              "        const docLink = document.createElement('div');\n",
              "        docLink.innerHTML = docLinkHtml;\n",
              "        element.appendChild(docLink);\n",
              "      }\n",
              "    </script>\n",
              "  </div>\n",
              "\n",
              "\n",
              "    <div id=\"df-4d56cf01-d92b-44e8-9261-aaac31149586\">\n",
              "      <button class=\"colab-df-quickchart\" onclick=\"quickchart('df-4d56cf01-d92b-44e8-9261-aaac31149586')\"\n",
              "                title=\"Suggest charts\"\n",
              "                style=\"display:none;\">\n",
              "\n",
              "<svg xmlns=\"http://www.w3.org/2000/svg\" height=\"24px\"viewBox=\"0 0 24 24\"\n",
              "     width=\"24px\">\n",
              "    <g>\n",
              "        <path d=\"M19 3H5c-1.1 0-2 .9-2 2v14c0 1.1.9 2 2 2h14c1.1 0 2-.9 2-2V5c0-1.1-.9-2-2-2zM9 17H7v-7h2v7zm4 0h-2V7h2v10zm4 0h-2v-4h2v4z\"/>\n",
              "    </g>\n",
              "</svg>\n",
              "      </button>\n",
              "\n",
              "<style>\n",
              "  .colab-df-quickchart {\n",
              "      --bg-color: #E8F0FE;\n",
              "      --fill-color: #1967D2;\n",
              "      --hover-bg-color: #E2EBFA;\n",
              "      --hover-fill-color: #174EA6;\n",
              "      --disabled-fill-color: #AAA;\n",
              "      --disabled-bg-color: #DDD;\n",
              "  }\n",
              "\n",
              "  [theme=dark] .colab-df-quickchart {\n",
              "      --bg-color: #3B4455;\n",
              "      --fill-color: #D2E3FC;\n",
              "      --hover-bg-color: #434B5C;\n",
              "      --hover-fill-color: #FFFFFF;\n",
              "      --disabled-bg-color: #3B4455;\n",
              "      --disabled-fill-color: #666;\n",
              "  }\n",
              "\n",
              "  .colab-df-quickchart {\n",
              "    background-color: var(--bg-color);\n",
              "    border: none;\n",
              "    border-radius: 50%;\n",
              "    cursor: pointer;\n",
              "    display: none;\n",
              "    fill: var(--fill-color);\n",
              "    height: 32px;\n",
              "    padding: 0;\n",
              "    width: 32px;\n",
              "  }\n",
              "\n",
              "  .colab-df-quickchart:hover {\n",
              "    background-color: var(--hover-bg-color);\n",
              "    box-shadow: 0 1px 2px rgba(60, 64, 67, 0.3), 0 1px 3px 1px rgba(60, 64, 67, 0.15);\n",
              "    fill: var(--button-hover-fill-color);\n",
              "  }\n",
              "\n",
              "  .colab-df-quickchart-complete:disabled,\n",
              "  .colab-df-quickchart-complete:disabled:hover {\n",
              "    background-color: var(--disabled-bg-color);\n",
              "    fill: var(--disabled-fill-color);\n",
              "    box-shadow: none;\n",
              "  }\n",
              "\n",
              "  .colab-df-spinner {\n",
              "    border: 2px solid var(--fill-color);\n",
              "    border-color: transparent;\n",
              "    border-bottom-color: var(--fill-color);\n",
              "    animation:\n",
              "      spin 1s steps(1) infinite;\n",
              "  }\n",
              "\n",
              "  @keyframes spin {\n",
              "    0% {\n",
              "      border-color: transparent;\n",
              "      border-bottom-color: var(--fill-color);\n",
              "      border-left-color: var(--fill-color);\n",
              "    }\n",
              "    20% {\n",
              "      border-color: transparent;\n",
              "      border-left-color: var(--fill-color);\n",
              "      border-top-color: var(--fill-color);\n",
              "    }\n",
              "    30% {\n",
              "      border-color: transparent;\n",
              "      border-left-color: var(--fill-color);\n",
              "      border-top-color: var(--fill-color);\n",
              "      border-right-color: var(--fill-color);\n",
              "    }\n",
              "    40% {\n",
              "      border-color: transparent;\n",
              "      border-right-color: var(--fill-color);\n",
              "      border-top-color: var(--fill-color);\n",
              "    }\n",
              "    60% {\n",
              "      border-color: transparent;\n",
              "      border-right-color: var(--fill-color);\n",
              "    }\n",
              "    80% {\n",
              "      border-color: transparent;\n",
              "      border-right-color: var(--fill-color);\n",
              "      border-bottom-color: var(--fill-color);\n",
              "    }\n",
              "    90% {\n",
              "      border-color: transparent;\n",
              "      border-bottom-color: var(--fill-color);\n",
              "    }\n",
              "  }\n",
              "</style>\n",
              "\n",
              "      <script>\n",
              "        async function quickchart(key) {\n",
              "          const quickchartButtonEl =\n",
              "            document.querySelector('#' + key + ' button');\n",
              "          quickchartButtonEl.disabled = true;  // To prevent multiple clicks.\n",
              "          quickchartButtonEl.classList.add('colab-df-spinner');\n",
              "          try {\n",
              "            const charts = await google.colab.kernel.invokeFunction(\n",
              "                'suggestCharts', [key], {});\n",
              "          } catch (error) {\n",
              "            console.error('Error during call to suggestCharts:', error);\n",
              "          }\n",
              "          quickchartButtonEl.classList.remove('colab-df-spinner');\n",
              "          quickchartButtonEl.classList.add('colab-df-quickchart-complete');\n",
              "        }\n",
              "        (() => {\n",
              "          let quickchartButtonEl =\n",
              "            document.querySelector('#df-4d56cf01-d92b-44e8-9261-aaac31149586 button');\n",
              "          quickchartButtonEl.style.display =\n",
              "            google.colab.kernel.accessAllowed ? 'block' : 'none';\n",
              "        })();\n",
              "      </script>\n",
              "    </div>\n",
              "\n",
              "    </div>\n",
              "  </div>\n"
            ],
            "application/vnd.google.colaboratory.intrinsic+json": {
              "type": "dataframe",
              "summary": "{\n  \"name\": \"df2_filtered\",\n  \"rows\": 8,\n  \"fields\": [\n    {\n      \"column\": \"CustomerID\",\n      \"properties\": {\n        \"dtype\": \"number\",\n        \"std\": 5455.631034139419,\n        \"min\": 2881.118141775773,\n        \"max\": 20100.0,\n        \"num_unique_values\": 8,\n        \"samples\": [\n          15111.492662000452,\n          15115.5,\n          8858.0\n        ],\n        \"semantic_type\": \"\",\n        \"description\": \"\"\n      }\n    },\n    {\n      \"column\": \"TotalTransactions\",\n      \"properties\": {\n        \"dtype\": \"number\",\n        \"std\": 3130.4793726956386,\n        \"min\": 0.0,\n        \"max\": 8858.0,\n        \"num_unique_values\": 8,\n        \"samples\": [\n          2.9931135696545494,\n          3.0,\n          8858.0\n        ],\n        \"semantic_type\": \"\",\n        \"description\": \"\"\n      }\n    },\n    {\n      \"column\": \"TotalSpent\",\n      \"properties\": {\n        \"dtype\": \"number\",\n        \"std\": 89314.49556237766,\n        \"min\": 1.484643109,\n        \"max\": 257773.5165,\n        \"num_unique_values\": 8,\n        \"samples\": [\n          6533.761966748023,\n          1041.3252485,\n          8858.0\n        ],\n        \"semantic_type\": \"\",\n        \"description\": \"\"\n      }\n    }\n  ]\n}"
            }
          },
          "metadata": {},
          "execution_count": 41
        }
      ]
    },
    {
      "cell_type": "code",
      "source": [
        "df2_filtered['PaymentType'].unique()"
      ],
      "metadata": {
        "colab": {
          "base_uri": "https://localhost:8080/"
        },
        "id": "Sll63H5XsNf3",
        "outputId": "b4bc976a-9a45-4ab5-9746-c6c3f582459c"
      },
      "execution_count": 42,
      "outputs": [
        {
          "output_type": "execute_result",
          "data": {
            "text/plain": [
              "array(['Credit', 'Instant'], dtype=object)"
            ]
          },
          "metadata": {},
          "execution_count": 42
        }
      ]
    },
    {
      "cell_type": "code",
      "source": [
        "df2_filtered['Currency'].unique()"
      ],
      "metadata": {
        "colab": {
          "base_uri": "https://localhost:8080/"
        },
        "id": "6FvHF6iHs2_0",
        "outputId": "719fd08d-bc08-4eb5-8a78-d579ccfd0501"
      },
      "execution_count": 43,
      "outputs": [
        {
          "output_type": "execute_result",
          "data": {
            "text/plain": [
              "array(['EUR', 'USDT', 'USD', 'GBP'], dtype=object)"
            ]
          },
          "metadata": {},
          "execution_count": 43
        }
      ]
    },
    {
      "cell_type": "code",
      "source": [
        "df2_filtered['BranchID'].unique()"
      ],
      "metadata": {
        "colab": {
          "base_uri": "https://localhost:8080/"
        },
        "id": "Qb3tRZnFt9pB",
        "outputId": "a5d2cbe0-9446-4632-ff1f-8e3c3498a251"
      },
      "execution_count": 44,
      "outputs": [
        {
          "output_type": "execute_result",
          "data": {
            "text/plain": [
              "array(['BR-007', 'BR-001', 'BR-004', 'BR-002', 'BR-003', 'BR-006',\n",
              "       'BR-005'], dtype=object)"
            ]
          },
          "metadata": {},
          "execution_count": 44
        }
      ]
    },
    {
      "cell_type": "code",
      "source": [
        "df2_filtered.info()"
      ],
      "metadata": {
        "colab": {
          "base_uri": "https://localhost:8080/"
        },
        "id": "mvCL1jqovGg-",
        "outputId": "128b436e-3e72-405d-f2f3-f11b0d2225fe"
      },
      "execution_count": 51,
      "outputs": [
        {
          "output_type": "stream",
          "name": "stdout",
          "text": [
            "<class 'pandas.core.frame.DataFrame'>\n",
            "Index: 8858 entries, 0 to 9999\n",
            "Data columns (total 7 columns):\n",
            " #   Column             Non-Null Count  Dtype  \n",
            "---  ------             --------------  -----  \n",
            " 0   CustomerID         8858 non-null   int64  \n",
            " 1   BranchID           8858 non-null   object \n",
            " 2   LastPurchaseDate   8858 non-null   object \n",
            " 3   TotalTransactions  8858 non-null   int64  \n",
            " 4   TotalSpent         8858 non-null   float64\n",
            " 5   Currency           8858 non-null   object \n",
            " 6   PaymentType        8858 non-null   object \n",
            "dtypes: float64(1), int64(2), object(4)\n",
            "memory usage: 553.6+ KB\n"
          ]
        }
      ]
    },
    {
      "cell_type": "code",
      "source": [
        "df2_filtered.to_csv('cleaned_transactions.csv', index=False)\n",
        "\n",
        "from google.colab import files\n",
        "files.download('cleaned_transactions.csv')"
      ],
      "metadata": {
        "colab": {
          "base_uri": "https://localhost:8080/",
          "height": 17
        },
        "id": "H9CvzBgauhGb",
        "outputId": "ac0b9ac6-4364-4354-bf5d-9ba57da953af"
      },
      "execution_count": 48,
      "outputs": [
        {
          "output_type": "display_data",
          "data": {
            "text/plain": [
              "<IPython.core.display.Javascript object>"
            ],
            "application/javascript": [
              "\n",
              "    async function download(id, filename, size) {\n",
              "      if (!google.colab.kernel.accessAllowed) {\n",
              "        return;\n",
              "      }\n",
              "      const div = document.createElement('div');\n",
              "      const label = document.createElement('label');\n",
              "      label.textContent = `Downloading \"${filename}\": `;\n",
              "      div.appendChild(label);\n",
              "      const progress = document.createElement('progress');\n",
              "      progress.max = size;\n",
              "      div.appendChild(progress);\n",
              "      document.body.appendChild(div);\n",
              "\n",
              "      const buffers = [];\n",
              "      let downloaded = 0;\n",
              "\n",
              "      const channel = await google.colab.kernel.comms.open(id);\n",
              "      // Send a message to notify the kernel that we're ready.\n",
              "      channel.send({})\n",
              "\n",
              "      for await (const message of channel.messages) {\n",
              "        // Send a message to notify the kernel that we're ready.\n",
              "        channel.send({})\n",
              "        if (message.buffers) {\n",
              "          for (const buffer of message.buffers) {\n",
              "            buffers.push(buffer);\n",
              "            downloaded += buffer.byteLength;\n",
              "            progress.value = downloaded;\n",
              "          }\n",
              "        }\n",
              "      }\n",
              "      const blob = new Blob(buffers, {type: 'application/binary'});\n",
              "      const a = document.createElement('a');\n",
              "      a.href = window.URL.createObjectURL(blob);\n",
              "      a.download = filename;\n",
              "      div.appendChild(a);\n",
              "      a.click();\n",
              "      div.remove();\n",
              "    }\n",
              "  "
            ]
          },
          "metadata": {}
        },
        {
          "output_type": "display_data",
          "data": {
            "text/plain": [
              "<IPython.core.display.Javascript object>"
            ],
            "application/javascript": [
              "download(\"download_e75fbe01-bef8-4761-b41a-9a827b7c1c68\", \"cleaned_transactions.csv\", 441990)"
            ]
          },
          "metadata": {}
        }
      ]
    },
    {
      "cell_type": "code",
      "source": [
        "valid_ids = df2_filtered['CustomerID'].unique()"
      ],
      "metadata": {
        "id": "t5tZ06aiuI5L"
      },
      "execution_count": 45,
      "outputs": []
    },
    {
      "cell_type": "code",
      "source": [
        "df_cleaned = df[df['CustomerID'].isin(valid_ids)]\n",
        "df_cleaned.info()"
      ],
      "metadata": {
        "colab": {
          "base_uri": "https://localhost:8080/"
        },
        "id": "TUelNuRquWW7",
        "outputId": "22b39f9a-0ba2-475b-97b2-396446e5160d"
      },
      "execution_count": 50,
      "outputs": [
        {
          "output_type": "stream",
          "name": "stdout",
          "text": [
            "<class 'pandas.core.frame.DataFrame'>\n",
            "Index: 8858 entries, 0 to 9999\n",
            "Data columns (total 5 columns):\n",
            " #   Column      Non-Null Count  Dtype \n",
            "---  ------      --------------  ----- \n",
            " 0   CustomerID  8858 non-null   int64 \n",
            " 1   Gender      8858 non-null   object\n",
            " 2   Age         8858 non-null   int64 \n",
            " 3   Country     8858 non-null   object\n",
            " 4   City        8858 non-null   object\n",
            "dtypes: int64(2), object(3)\n",
            "memory usage: 415.2+ KB\n"
          ]
        }
      ]
    },
    {
      "cell_type": "code",
      "source": [
        "df_cleaned.to_csv('cleaned_cust_info.csv', index=False)\n",
        "\n",
        "from google.colab import files\n",
        "files.download('cleaned_cust_info.csv')"
      ],
      "metadata": {
        "colab": {
          "base_uri": "https://localhost:8080/",
          "height": 17
        },
        "id": "TDMzUlbZufJX",
        "outputId": "1da675d7-ce36-458a-8448-dc4b6280458b"
      },
      "execution_count": 49,
      "outputs": [
        {
          "output_type": "display_data",
          "data": {
            "text/plain": [
              "<IPython.core.display.Javascript object>"
            ],
            "application/javascript": [
              "\n",
              "    async function download(id, filename, size) {\n",
              "      if (!google.colab.kernel.accessAllowed) {\n",
              "        return;\n",
              "      }\n",
              "      const div = document.createElement('div');\n",
              "      const label = document.createElement('label');\n",
              "      label.textContent = `Downloading \"${filename}\": `;\n",
              "      div.appendChild(label);\n",
              "      const progress = document.createElement('progress');\n",
              "      progress.max = size;\n",
              "      div.appendChild(progress);\n",
              "      document.body.appendChild(div);\n",
              "\n",
              "      const buffers = [];\n",
              "      let downloaded = 0;\n",
              "\n",
              "      const channel = await google.colab.kernel.comms.open(id);\n",
              "      // Send a message to notify the kernel that we're ready.\n",
              "      channel.send({})\n",
              "\n",
              "      for await (const message of channel.messages) {\n",
              "        // Send a message to notify the kernel that we're ready.\n",
              "        channel.send({})\n",
              "        if (message.buffers) {\n",
              "          for (const buffer of message.buffers) {\n",
              "            buffers.push(buffer);\n",
              "            downloaded += buffer.byteLength;\n",
              "            progress.value = downloaded;\n",
              "          }\n",
              "        }\n",
              "      }\n",
              "      const blob = new Blob(buffers, {type: 'application/binary'});\n",
              "      const a = document.createElement('a');\n",
              "      a.href = window.URL.createObjectURL(blob);\n",
              "      a.download = filename;\n",
              "      div.appendChild(a);\n",
              "      a.click();\n",
              "      div.remove();\n",
              "    }\n",
              "  "
            ]
          },
          "metadata": {}
        },
        {
          "output_type": "display_data",
          "data": {
            "text/plain": [
              "<IPython.core.display.Javascript object>"
            ],
            "application/javascript": [
              "download(\"download_e640a3c4-2fc4-475b-9d53-24e78cf62e76\", \"cleaned_cust_info.csv\", 290920)"
            ]
          },
          "metadata": {}
        }
      ]
    },
    {
      "cell_type": "markdown",
      "source": [
        "After cleaning both customer_info and transaction data, we have 8858 customer details to proceed with RFM Analysis."
      ],
      "metadata": {
        "id": "O7tCyQ29vTZz"
      }
    }
  ]
}